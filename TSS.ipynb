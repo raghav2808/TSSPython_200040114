{
  "nbformat": 4,
  "nbformat_minor": 0,
  "metadata": {
    "colab": {
      "name": "TSS.ipynb",
      "provenance": [],
      "collapsed_sections": [],
      "authorship_tag": "ABX9TyPJmSPNXwWQXUIsx3ea7c7M",
      "include_colab_link": true
    },
    "kernelspec": {
      "name": "python3",
      "display_name": "Python 3"
    },
    "language_info": {
      "name": "python"
    }
  },
  "cells": [
    {
      "cell_type": "markdown",
      "metadata": {
        "id": "view-in-github",
        "colab_type": "text"
      },
      "source": [
        "<a href=\"https://colab.research.google.com/github/raghav2808/TSSPython_200040114/blob/main/TSS.ipynb\" target=\"_parent\"><img src=\"https://colab.research.google.com/assets/colab-badge.svg\" alt=\"Open In Colab\"/></a>"
      ]
    },
    {
      "cell_type": "code",
      "metadata": {
        "colab": {
          "base_uri": "https://localhost:8080/",
          "height": 128
        },
        "id": "iUVYXv5MVrye",
        "outputId": "01bdd853-80f9-443b-d875-1a5f17cf38f0"
      },
      "source": [
        "DictionaryOfWords = {}\n",
        "Novel = []\n",
        "\n",
        "i = 0\n",
        "\n",
        "for line in File.readlines():\n",
        "\n",
        "line = line.replace(\".\",\"\").replace(\",\",\"\").replace('?','').replace('!','').replace('[','').replace(']','').replace('(','').replace(')','').replace('%','').replace('//','')\n",
        "\n",
        "\n",
        "for line in line.split(' '): \n",
        "                                                                         \n",
        "    if line in DictionaryOfWords.keys():     \n",
        "                                                                         \n",
        "        DictionaryOfWords[line].extend([i])        \n",
        "                                                                         \n",
        "    else:\n",
        "        DictionaryOfWords[line] = [i]      \n",
        "                                                                         \n",
        "    \n",
        "    Novel.append(line)        \n",
        "                                                                         \n",
        "    i+=1\n",
        "def GetQuery():\n",
        "\n",
        "word = input(\"what word do you want to query for  \")\n",
        "Number = int(input(\"how many results do you want to see \"))\n",
        "\n",
        "return (word, Number)\n",
        "def PrintContext(index):\n",
        "\n",
        "global Novel                          \n",
        "\n",
        "for i in range(index-5,index+5) :          \n",
        "    \n",
        "    print( Novel[i] , end = ' ')          \n",
        "    \n",
        "print('\\n')\n",
        "def PrintResult(word, Number):\n",
        "\n",
        "global DictionaryOfWords                \n",
        "\n",
        "L = DictionaryOfWords[ word ] \n",
        "\n",
        "for i in range(0,min(len(L),Number)):\n",
        "    \n",
        "    PrintContext(i)   \n",
        "Query = input(\"If you have any Query , Please enter Y or if you don't have any query then enter N \\n Please press Enter after entering your choice! \")\n",
        "\n",
        "if Query == \"Y\": GetQuery()\n",
        "\n",
        "else: pass\n",
        "\n",
        "while 1>0 :\n",
        "\n",
        "Choice = input('Press Y in order to Continue with the next query or N to end. \\n Please press Enter after entering your choice! ')\n",
        "\n",
        "if Choice== \"Y\" :\n",
        "\n",
        "    GetQuery()\n",
        "                   \n",
        "else:\n",
        "\n",
        "    break"
      ],
      "execution_count": 1,
      "outputs": [
        {
          "output_type": "error",
          "ename": "IndentationError",
          "evalue": "ignored",
          "traceback": [
            "\u001b[0;36m  File \u001b[0;32m\"<ipython-input-1-60425ce9cf05>\"\u001b[0;36m, line \u001b[0;32m8\u001b[0m\n\u001b[0;31m    line = line.replace(\".\",\"\").replace(\",\",\"\").replace('?','').replace('!','').replace('[','').replace(']','').replace('(','').replace(')','').replace('%','').replace('//','')\u001b[0m\n\u001b[0m       ^\u001b[0m\n\u001b[0;31mIndentationError\u001b[0m\u001b[0;31m:\u001b[0m expected an indented block\n"
          ]
        }
      ]
    }
  ]
}